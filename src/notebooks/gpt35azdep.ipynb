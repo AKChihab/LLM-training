{
 "cells": [
  {
   "cell_type": "markdown",
   "metadata": {},
   "source": [
    "# Deployment GPT 3.5 via AZURE OPEN AI "
   ]
  },
  {
   "cell_type": "code",
   "execution_count": 54,
   "metadata": {},
   "outputs": [],
   "source": [
    "import os\n",
    "from azure.ai.inference import ChatCompletionsClient\n",
    "from azure.ai.inference.models import SystemMessage, UserMessage, AssistantMessage\n",
    "from azure.identity import AzureCliCredential , DefaultAzureCredential\n",
    "from azure.core.credentials import AzureKeyCredential\n",
    "from openai import AzureOpenAI\n",
    "from dotenv import load_dotenv\n"
   ]
  },
  {
   "cell_type": "code",
   "execution_count": 51,
   "metadata": {},
   "outputs": [],
   "source": [
    "load_dotenv()\n",
    "model_name = \"gpt-35-turbo\"\n",
    "endpoint=\"https://openaillmdemo93.openai.azure.com/openai/deployments/gpt-35-turbo\""
   ]
  },
  {
   "cell_type": "markdown",
   "metadata": {},
   "source": [
    "# AZURE AI INFERENCE"
   ]
  },
  {
   "cell_type": "markdown",
   "metadata": {},
   "source": [
    "### Basic Code + Key Auth"
   ]
  },
  {
   "cell_type": "code",
   "execution_count": 52,
   "metadata": {},
   "outputs": [
    {
     "name": "stdout",
     "output_type": "stream",
     "text": [
      "Machine learning is a subfield of artificial intelligence that focuses on the development of algorithms and models that enable computers to learn from and make predictions or decisions based on data. In traditional programming, humans explicitly tell a computer how to perform a task by providing detailed instructions and rules. In contrast, in machine learning, algorithms are designed to learn patterns and relationships directly from data without being explicitly programmed.\n",
      "\n",
      "The process of machine learning typically involves the following steps:\n",
      "\n",
      "1. Data collection: Gathering relevant data sets that will be used to train and test the machine learning model.\n",
      "\n",
      "2. Data preprocessing: Cleaning and transforming the data to make it suitable for training a model, which may involve tasks such as handling missing values, normalizing the data, and encoding categorical variables.\n",
      "\n",
      "3. Model training: Using a machine learning algorithm to learn patterns and relationships from the training data. The model is adjusted iteratively to minimize errors and improve its predictive performance.\n",
      "\n",
      "4. Model evaluation: Assessing the performance of the trained model using test data to ensure that it can generalize well to new, unseen data.\n",
      "\n",
      "5. Model deployment: Deploying the trained model to make predictions or decisions on new data in real-world applications.\n",
      "\n",
      "Machine learning algorithms can be categorized into different types based on the learning approach, such as supervised learning, unsupervised learning, and reinforcement learning. Supervised learning involves training a model on labeled data, where the correct outputs are provided for each input. Unsupervised learning aims to find patterns or structures in unlabeled data. Reinforcement learning involves training an agent to interact with an environment and learn through trial and error to maximize a reward signal.\n",
      "\n",
      "Machine learning has a wide range of applications across various industries, including image and speech recognition, natural language processing, healthcare, finance, and autonomous vehicles. The field continues to advance rapidly, with ongoing research and development to improve algorithms, models, and techniques for better performance and scalability.\n"
     ]
    }
   ],
   "source": [
    "# For Serverless API or Managed Compute endpoints\n",
    "client = ChatCompletionsClient(\n",
    "    endpoint=endpoint,\n",
    "    credential=AzureKeyCredential(os.environ.get(\"AZURE_API_KEY\"))\n",
    ")\n",
    "response = client.complete(\n",
    "    messages=[\n",
    "        SystemMessage(content=\"You are an expert in the field of AI and machine learning.\"),\n",
    "        UserMessage(content=\"Explain the concept of machine learning?\")\n",
    "    ],\n",
    "    max_tokens=400,\n",
    "    temperature=.8,\n",
    "    top_p=1.0,\n",
    "    model=model_name\n",
    ")\n",
    "print(response.choices[0].message.content)"
   ]
  },
  {
   "cell_type": "markdown",
   "metadata": {},
   "source": [
    "### Multi-turn + Key Auth"
   ]
  },
  {
   "cell_type": "code",
   "execution_count": 55,
   "metadata": {},
   "outputs": [
    {
     "name": "stdout",
     "output_type": "stream",
     "text": [
      "To implement a Dead man's switch smart contract, you can follow these general steps:\n",
      "\n",
      "1. Define the functionality: Determine what actions should be triggered if the \"dead man's switch\" is activated. For example, you might want to transfer assets to specified beneficiaries, send a notification, or perform other specific functions.\n",
      "\n",
      "2. Design the contract: Write the Solidity code for the smart contract that includes functions to handle the activation and deactivation of the switch, as well as the actions to be executed when the switch is triggered.\n",
      "\n",
      "3. Implement time-based triggers: Include mechanisms in the smart contract to track the passage of time or other conditions that will activate the switch if certain requirements are not met within a specified timeframe.\n",
      "\n",
      "4. Security considerations: Ensure the contract is secure against potential vulnerabilities such as reentrancy attacks, denial-of-service attacks, and others. Consider using established best practices and auditing the contract code before deployment.\n",
      "\n",
      "5. Testing and deployment: Test the smart contract thoroughly on a test network before deploying it on the main Ethereum network. Consider using tools like Truffle for testing and deployment.\n",
      "\n",
      "6. Deploy and interact with the contract: Deploy the smart contract on the Ethereum network and interact with it using a wallet or a dapp interface to set up the Dead man's switch parameters and activate it.\n",
      "\n",
      "Before implementing a Dead man's switch smart contract, it is important to consider legal and ethical implications, as well as potential consequences of its activation. Additionally, seek advice from legal and blockchain experts to ensure compliance and best practices in implementing such a feature on the blockchain.\n"
     ]
    }
   ],
   "source": [
    "\n",
    "credential = AzureCliCredential()\n",
    "client = ChatCompletionsClient(\n",
    "    endpoint=endpoint,\n",
    "    credential=credential,\n",
    "    credential_scopes=[\"https://cognitiveservices.azure.com/.default\"],\n",
    ")\n",
    "\n",
    "response = client.complete(\n",
    "    messages=[\n",
    "        SystemMessage(content=\"You are an expert in Solidity and Ethereum blockchain.\"),\n",
    "        UserMessage(content=\"I want to create a smart contract for a Dead man's switch. What is the best way to implement this?\"),\n",
    "        AssistantMessage(content=\"Smart contracts are programs that run on a blockchain. They are self-executing contracts with the terms of the agreement directly written into code. Dead man's switch smart contracts can be implemented using Solidity, a programming language for writing smart contracts on Ethereum. Here's a basic example of a Dead man's switch smart contract in Solidity:\"),\n",
    "        UserMessage(content=\"What is the best way to implement this?\")\n",
    "    ],\n",
    "    max_tokens=500,\n",
    "    temperature=1.0,\n",
    "    top_p=1.0,\n",
    "    model=model_name\n",
    ")\n",
    "\n",
    "print(response.choices[0].message.content)"
   ]
  },
  {
   "cell_type": "markdown",
   "metadata": {},
   "source": [
    "###  Stream the output"
   ]
  },
  {
   "cell_type": "code",
   "execution_count": 57,
   "metadata": {},
   "outputs": [
    {
     "name": "stdout",
     "output_type": "stream",
     "text": [
      "Make sure to visit the Eiffel Tower so you can take a selfie with all the other tourists trying to do the same thing."
     ]
    }
   ],
   "source": [
    "response = client.complete(\n",
    "    stream=True,\n",
    "    messages=[\n",
    "        SystemMessage(content=\"You are a comediam telling short and sarcastic jokes.\"),\n",
    "        UserMessage(content=\"I am going to Paris, what should I see?\")\n",
    "    ],\n",
    "    max_tokens=250,\n",
    "    temperature=.7,\n",
    "    top_p=1.0,\n",
    "    model=model_name\n",
    ")\n",
    "\n",
    "for update in response:\n",
    "    if update.choices:\n",
    "        print(update.choices[0].delta.content or \"\", end=\"\")\n",
    "\n",
    "client.close()"
   ]
  },
  {
   "cell_type": "code",
   "execution_count": null,
   "metadata": {},
   "outputs": [],
   "source": [
    "# For Serverless API or Managed Compute endpoints\n",
    "client = ChatCompletionsClient(\n",
    "    endpoint=\"https://openaillmdemo93.openai.azure.com/openai/deployments/gpt-35-turbo\",\n",
    "    credential=AzureKeyCredential(os.environ.get(\"AZURE_API_KEY\"))\n",
    ")\n",
    "response = client.complete(\n",
    "    messages=[\n",
    "        SystemMessage(content=\"You are an expert in the field of AI and machine learning.\"),\n",
    "        UserMessage(content=\"Explain the concept of machine learning?\")\n",
    "    ],\n",
    "    max_tokens=400,\n",
    "    temperature=.8,\n",
    "    top_p=1.0,\n",
    "    model=model_name\n",
    ")\n",
    "print(response.choices[0].message.content)"
   ]
  },
  {
   "cell_type": "code",
   "execution_count": 48,
   "metadata": {},
   "outputs": [
    {
     "name": "stdout",
     "output_type": "stream",
     "text": [
      "Paris is a beautiful city with many must-see attractions! Here are some top recommendations:\n",
      "\n",
      "1. Eiffel Tower: A visit to Paris is not complete without seeing the iconic Eiffel Tower. You can admire it from the Champs de Mars park or go up to the top for stunning panoramic views of the city.\n",
      "\n",
      "2. Louvre Museum: Home to thousands of works of art, including the famous Mona Lisa, the Louvre is a must-visit for art lovers.\n",
      "\n",
      "3. Notre-Dame Cathedral: This historic cathedral is a masterpiece of French Gothic architecture and is known for its stunning stained glass windows and impressive sculptures.\n",
      "\n",
      "4. Montmartre: Explore the charming neighborhood of Montmartre, known for its artistic history, picturesque streets, and the iconic Sacré-Cœur Basilica.\n",
      "\n",
      "5. Champs-Élysées: Take a leisurely stroll down this famous avenue, lined with shops, cafes, and iconic landmarks like the Arc de Triomphe.\n",
      "\n",
      "6. Seine River Cruise: Enjoy a relaxing boat tour along the Seine River to see many of Paris's famous landmarks from a different perspective.\n",
      "\n",
      "7. Sainte-Chapelle: Admire the breathtaking stained glass windows of this Gothic chapel, considered one of the architectural highlights of Paris.\n",
      "\n",
      "These are just a few of the many sights to see in Paris. Make sure to also savor the delicious French cuisine, visit charming cafes, and explore the city's vibrant neighborhoods. Bon voyage!\n"
     ]
    }
   ],
   "source": [
    "\n",
    "endpoint = \"https://openaillmdemo93.openai.azure.com/openai/deployments/gpt-35-turbo\"\n",
    "model_name = \"gpt-35-turbo\"\n",
    "credential = AzureCliCredential()\n",
    "client = ChatCompletionsClient(\n",
    "    endpoint=endpoint,\n",
    "    credential=credential,\n",
    "    credential_scopes=[\"https://cognitiveservices.azure.com/.default\"],\n",
    ")\n",
    "\n",
    "response = client.complete(\n",
    "    messages=[\n",
    "        SystemMessage(content=\"You are a helpful assistant.\"),\n",
    "        UserMessage(content=\"I am going to Paris, what should I see?\"),\n",
    "    ],\n",
    "    max_tokens=500,\n",
    "    temperature=1.0,\n",
    "    top_p=1.0,\n",
    "    model=model_name\n",
    ")\n",
    "\n",
    "print(response.choices[0].message.content)"
   ]
  },
  {
   "cell_type": "markdown",
   "metadata": {},
   "source": []
  },
  {
   "cell_type": "markdown",
   "metadata": {},
   "source": [
    "# multi-turn conversation"
   ]
  },
  {
   "cell_type": "markdown",
   "metadata": {},
   "source": []
  },
  {
   "cell_type": "code",
   "execution_count": 4,
   "metadata": {},
   "outputs": [
    {
     "ename": "ValueError",
     "evalue": "client_id should be the id of a Microsoft Entra application",
     "output_type": "error",
     "traceback": [
      "\u001b[0;31m---------------------------------------------------------------------------\u001b[0m",
      "\u001b[0;31mValueError\u001b[0m                                Traceback (most recent call last)",
      "Cell \u001b[0;32mIn[4], line 11\u001b[0m\n\u001b[1;32m      6\u001b[0m endpoint \u001b[38;5;241m=\u001b[39m \u001b[38;5;124m\"\u001b[39m\u001b[38;5;124mhttps://openaillmdemo93.openai.azure.com/openai/deployments/gpt-35-turbo\u001b[39m\u001b[38;5;124m\"\u001b[39m\n\u001b[1;32m      7\u001b[0m model_name \u001b[38;5;241m=\u001b[39m \u001b[38;5;124m\"\u001b[39m\u001b[38;5;124mgpt-35-turbo\u001b[39m\u001b[38;5;124m\"\u001b[39m\n\u001b[1;32m      9\u001b[0m client \u001b[38;5;241m=\u001b[39m ChatCompletionsClient(\n\u001b[1;32m     10\u001b[0m     endpoint\u001b[38;5;241m=\u001b[39mendpoint,\n\u001b[0;32m---> 11\u001b[0m     credential\u001b[38;5;241m=\u001b[39m\u001b[43mDefaultAzureCredential\u001b[49m\u001b[43m(\u001b[49m\u001b[43m)\u001b[49m,\n\u001b[1;32m     12\u001b[0m )\n\u001b[1;32m     14\u001b[0m response \u001b[38;5;241m=\u001b[39m client\u001b[38;5;241m.\u001b[39mcomplete(\n\u001b[1;32m     15\u001b[0m     messages\u001b[38;5;241m=\u001b[39m[\n\u001b[1;32m     16\u001b[0m       SystemMessage(content\u001b[38;5;241m=\u001b[39m\u001b[38;5;124m\"\u001b[39m\u001b[38;5;124mYou are a helpful assistant.\u001b[39m\u001b[38;5;124m\"\u001b[39m),\n\u001b[0;32m   (...)\u001b[0m\n\u001b[1;32m     24\u001b[0m     model\u001b[38;5;241m=\u001b[39mmodel_name\n\u001b[1;32m     25\u001b[0m )\n\u001b[1;32m     27\u001b[0m \u001b[38;5;28mprint\u001b[39m(response\u001b[38;5;241m.\u001b[39mchoices[\u001b[38;5;241m0\u001b[39m]\u001b[38;5;241m.\u001b[39mmessage\u001b[38;5;241m.\u001b[39mcontent)\n",
      "File \u001b[0;32m~/Desktop/Github/LLM-training/.venv/lib/python3.9/site-packages/azure/identity/_credentials/default.py:149\u001b[0m, in \u001b[0;36mDefaultAzureCredential.__init__\u001b[0;34m(self, **kwargs)\u001b[0m\n\u001b[1;32m    147\u001b[0m within_dac\u001b[38;5;241m.\u001b[39mset(\u001b[38;5;28;01mTrue\u001b[39;00m)\n\u001b[1;32m    148\u001b[0m \u001b[38;5;28;01mif\u001b[39;00m \u001b[38;5;129;01mnot\u001b[39;00m exclude_environment_credential:\n\u001b[0;32m--> 149\u001b[0m     credentials\u001b[38;5;241m.\u001b[39mappend(\u001b[43mEnvironmentCredential\u001b[49m\u001b[43m(\u001b[49m\u001b[43mauthority\u001b[49m\u001b[38;5;241;43m=\u001b[39;49m\u001b[43mauthority\u001b[49m\u001b[43m,\u001b[49m\u001b[43m \u001b[49m\u001b[43m_within_dac\u001b[49m\u001b[38;5;241;43m=\u001b[39;49m\u001b[38;5;28;43;01mTrue\u001b[39;49;00m\u001b[43m,\u001b[49m\u001b[43m \u001b[49m\u001b[38;5;241;43m*\u001b[39;49m\u001b[38;5;241;43m*\u001b[39;49m\u001b[43mkwargs\u001b[49m\u001b[43m)\u001b[49m)\n\u001b[1;32m    150\u001b[0m \u001b[38;5;28;01mif\u001b[39;00m \u001b[38;5;129;01mnot\u001b[39;00m exclude_workload_identity_credential:\n\u001b[1;32m    151\u001b[0m     \u001b[38;5;28;01mif\u001b[39;00m \u001b[38;5;28mall\u001b[39m(os\u001b[38;5;241m.\u001b[39menviron\u001b[38;5;241m.\u001b[39mget(var) \u001b[38;5;28;01mfor\u001b[39;00m var \u001b[38;5;129;01min\u001b[39;00m EnvironmentVariables\u001b[38;5;241m.\u001b[39mWORKLOAD_IDENTITY_VARS):\n",
      "File \u001b[0;32m~/Desktop/Github/LLM-training/.venv/lib/python3.9/site-packages/azure/identity/_credentials/environment.py:76\u001b[0m, in \u001b[0;36mEnvironmentCredential.__init__\u001b[0;34m(self, **kwargs)\u001b[0m\n\u001b[1;32m     73\u001b[0m \u001b[38;5;28mself\u001b[39m\u001b[38;5;241m.\u001b[39m_credential: Optional[EnvironmentCredentialTypes] \u001b[38;5;241m=\u001b[39m \u001b[38;5;28;01mNone\u001b[39;00m\n\u001b[1;32m     75\u001b[0m \u001b[38;5;28;01mif\u001b[39;00m \u001b[38;5;28mall\u001b[39m(os\u001b[38;5;241m.\u001b[39menviron\u001b[38;5;241m.\u001b[39mget(v) \u001b[38;5;129;01mis\u001b[39;00m \u001b[38;5;129;01mnot\u001b[39;00m \u001b[38;5;28;01mNone\u001b[39;00m \u001b[38;5;28;01mfor\u001b[39;00m v \u001b[38;5;129;01min\u001b[39;00m EnvironmentVariables\u001b[38;5;241m.\u001b[39mCLIENT_SECRET_VARS):\n\u001b[0;32m---> 76\u001b[0m     \u001b[38;5;28mself\u001b[39m\u001b[38;5;241m.\u001b[39m_credential \u001b[38;5;241m=\u001b[39m \u001b[43mClientSecretCredential\u001b[49m\u001b[43m(\u001b[49m\n\u001b[1;32m     77\u001b[0m \u001b[43m        \u001b[49m\u001b[43mclient_id\u001b[49m\u001b[38;5;241;43m=\u001b[39;49m\u001b[43mos\u001b[49m\u001b[38;5;241;43m.\u001b[39;49m\u001b[43menviron\u001b[49m\u001b[43m[\u001b[49m\u001b[43mEnvironmentVariables\u001b[49m\u001b[38;5;241;43m.\u001b[39;49m\u001b[43mAZURE_CLIENT_ID\u001b[49m\u001b[43m]\u001b[49m\u001b[43m,\u001b[49m\n\u001b[1;32m     78\u001b[0m \u001b[43m        \u001b[49m\u001b[43mclient_secret\u001b[49m\u001b[38;5;241;43m=\u001b[39;49m\u001b[43mos\u001b[49m\u001b[38;5;241;43m.\u001b[39;49m\u001b[43menviron\u001b[49m\u001b[43m[\u001b[49m\u001b[43mEnvironmentVariables\u001b[49m\u001b[38;5;241;43m.\u001b[39;49m\u001b[43mAZURE_CLIENT_SECRET\u001b[49m\u001b[43m]\u001b[49m\u001b[43m,\u001b[49m\n\u001b[1;32m     79\u001b[0m \u001b[43m        \u001b[49m\u001b[43mtenant_id\u001b[49m\u001b[38;5;241;43m=\u001b[39;49m\u001b[43mos\u001b[49m\u001b[38;5;241;43m.\u001b[39;49m\u001b[43menviron\u001b[49m\u001b[43m[\u001b[49m\u001b[43mEnvironmentVariables\u001b[49m\u001b[38;5;241;43m.\u001b[39;49m\u001b[43mAZURE_TENANT_ID\u001b[49m\u001b[43m]\u001b[49m\u001b[43m,\u001b[49m\n\u001b[1;32m     80\u001b[0m \u001b[43m        \u001b[49m\u001b[38;5;241;43m*\u001b[39;49m\u001b[38;5;241;43m*\u001b[39;49m\u001b[43mkwargs\u001b[49m\n\u001b[1;32m     81\u001b[0m \u001b[43m    \u001b[49m\u001b[43m)\u001b[49m\n\u001b[1;32m     82\u001b[0m \u001b[38;5;28;01melif\u001b[39;00m \u001b[38;5;28mall\u001b[39m(os\u001b[38;5;241m.\u001b[39menviron\u001b[38;5;241m.\u001b[39mget(v) \u001b[38;5;129;01mis\u001b[39;00m \u001b[38;5;129;01mnot\u001b[39;00m \u001b[38;5;28;01mNone\u001b[39;00m \u001b[38;5;28;01mfor\u001b[39;00m v \u001b[38;5;129;01min\u001b[39;00m EnvironmentVariables\u001b[38;5;241m.\u001b[39mCERT_VARS):\n\u001b[1;32m     83\u001b[0m     \u001b[38;5;28mself\u001b[39m\u001b[38;5;241m.\u001b[39m_credential \u001b[38;5;241m=\u001b[39m CertificateCredential(\n\u001b[1;32m     84\u001b[0m         client_id\u001b[38;5;241m=\u001b[39mos\u001b[38;5;241m.\u001b[39menviron[EnvironmentVariables\u001b[38;5;241m.\u001b[39mAZURE_CLIENT_ID],\n\u001b[1;32m     85\u001b[0m         tenant_id\u001b[38;5;241m=\u001b[39mos\u001b[38;5;241m.\u001b[39menviron[EnvironmentVariables\u001b[38;5;241m.\u001b[39mAZURE_TENANT_ID],\n\u001b[0;32m   (...)\u001b[0m\n\u001b[1;32m     91\u001b[0m         \u001b[38;5;241m*\u001b[39m\u001b[38;5;241m*\u001b[39mkwargs\n\u001b[1;32m     92\u001b[0m     )\n",
      "File \u001b[0;32m~/Desktop/Github/LLM-training/.venv/lib/python3.9/site-packages/azure/identity/_credentials/client_secret.py:45\u001b[0m, in \u001b[0;36mClientSecretCredential.__init__\u001b[0;34m(self, tenant_id, client_id, client_secret, **kwargs)\u001b[0m\n\u001b[1;32m     43\u001b[0m \u001b[38;5;28;01mdef\u001b[39;00m\u001b[38;5;250m \u001b[39m\u001b[38;5;21m__init__\u001b[39m(\u001b[38;5;28mself\u001b[39m, tenant_id: \u001b[38;5;28mstr\u001b[39m, client_id: \u001b[38;5;28mstr\u001b[39m, client_secret: \u001b[38;5;28mstr\u001b[39m, \u001b[38;5;241m*\u001b[39m\u001b[38;5;241m*\u001b[39mkwargs: Any) \u001b[38;5;241m-\u001b[39m\u001b[38;5;241m>\u001b[39m \u001b[38;5;28;01mNone\u001b[39;00m:\n\u001b[1;32m     44\u001b[0m     \u001b[38;5;28;01mif\u001b[39;00m \u001b[38;5;129;01mnot\u001b[39;00m client_id:\n\u001b[0;32m---> 45\u001b[0m         \u001b[38;5;28;01mraise\u001b[39;00m \u001b[38;5;167;01mValueError\u001b[39;00m(\u001b[38;5;124m\"\u001b[39m\u001b[38;5;124mclient_id should be the id of a Microsoft Entra application\u001b[39m\u001b[38;5;124m\"\u001b[39m)\n\u001b[1;32m     46\u001b[0m     \u001b[38;5;28;01mif\u001b[39;00m \u001b[38;5;129;01mnot\u001b[39;00m client_secret:\n\u001b[1;32m     47\u001b[0m         \u001b[38;5;28;01mraise\u001b[39;00m \u001b[38;5;167;01mValueError\u001b[39;00m(\u001b[38;5;124m\"\u001b[39m\u001b[38;5;124msecret should be a Microsoft Entra application\u001b[39m\u001b[38;5;124m'\u001b[39m\u001b[38;5;124ms client secret\u001b[39m\u001b[38;5;124m\"\u001b[39m)\n",
      "\u001b[0;31mValueError\u001b[0m: client_id should be the id of a Microsoft Entra application"
     ]
    }
   ],
   "source": [
    "import os\n",
    "from azure.ai.inference import ChatCompletionsClient\n",
    "from azure.ai.inference.models import AssistantMessage, SystemMessage, UserMessage\n",
    "from azure.identity import DefaultAzureCredential\n",
    "\n",
    "endpoint = \"https://openaillmdemo93.openai.azure.com/openai/deployments/gpt-35-turbo\"\n",
    "model_name = \"gpt-35-turbo\"\n",
    "\n",
    "client = ChatCompletionsClient(\n",
    "    endpoint=endpoint,\n",
    "    credential=DefaultAzureCredential(),\n",
    ")\n",
    "\n",
    "response = client.complete(\n",
    "    messages=[\n",
    "      SystemMessage(content=\"You are a helpful assistant.\"),\n",
    "      UserMessage(content=\"I am going to Paris, what should I see?\"),\n",
    "      AssistantMessage(content=\"Paris, the capital of France, is known for its stunning architecture, art museums, historical landmarks, and romantic atmosphere. Here are some of the top attractions to see in Paris:\\n \\n 1. The Eiffel Tower: The iconic Eiffel Tower is one of the most recognizable landmarks in the world and offers breathtaking views of the city.\\n 2. The Louvre Museum: The Louvre is one of the world's largest and most famous museums, housing an impressive collection of art and artifacts, including the Mona Lisa.\\n 3. Notre-Dame Cathedral: This beautiful cathedral is one of the most famous landmarks in Paris and is known for its Gothic architecture and stunning stained glass windows.\\n \\n These are just a few of the many attractions that Paris has to offer. With so much to see and do, it's no wonder that Paris is one of the most popular tourist destinations in the world.\"),\n",
    "      UserMessage(content=\"What is so great about #1?\")\n",
    "    ],\n",
    "    max_tokens=4096,\n",
    "    temperature=1.0,\n",
    "    top_p=1.0,\n",
    "    model=model_name\n",
    ")\n",
    "\n",
    "print(response.choices[0].message.content)"
   ]
  },
  {
   "cell_type": "markdown",
   "metadata": {},
   "source": [
    "# OPEN AI SDK\n",
    "### Using API KEYs   "
   ]
  },
  {
   "cell_type": "code",
   "execution_count": 47,
   "metadata": {},
   "outputs": [
    {
     "name": "stdout",
     "output_type": "stream",
     "text": [
      "Free Trial\n"
     ]
    }
   ],
   "source": []
  },
  {
   "cell_type": "code",
   "execution_count": 46,
   "metadata": {},
   "outputs": [
    {
     "name": "stdout",
     "output_type": "stream",
     "text": [
      "There are so many wonderful things to see and do in Paris! Here are some must-see attractions:\n",
      "\n",
      "1. Eiffel Tower - No visit to Paris is complete without seeing the iconic Eiffel Tower. You can even go to the top for a stunning view of the city.\n",
      "\n",
      "2. Louvre Museum - Home to thousands of works of art, including the famous Mona Lisa, the Louvre is a must-visit for art lovers.\n",
      "\n",
      "3. Notre-Dame Cathedral - This beautiful Gothic cathedral is a masterpiece of architecture and a must-see for visitors to Paris.\n",
      "\n",
      "4. Montmartre - Explore this charming neighborhood known for its artistic history, and be sure to visit the Sacré-Cœur Basilica for a panoramic view of the city.\n",
      "\n",
      "5. Champs-Élysées - Take a stroll down this famous avenue, lined with shops, cafes, and landmarks like the Arc de Triomphe.\n",
      "\n",
      "6. Seine River Cruise - See the city from a different perspective by taking a relaxing boat cruise along the Seine River.\n",
      "\n",
      "7. Palace of Versailles - Just a short trip from Paris, the Palace of Versailles is a stunning example of French Baroque architecture and a UNESCO World Heritage site.\n",
      "\n",
      "These are just a few of the highlights of Paris - there is so much more to see and do in this beautiful city!\n"
     ]
    }
   ],
   "source": []
  },
  {
   "cell_type": "code",
   "execution_count": null,
   "metadata": {},
   "outputs": [],
   "source": [
    "endpoint = \"https://openaillmdemo93.openai.azure.com/openai/deployments/gpt-35-turbo\"\n",
    "\n",
    "\n",
    "subscription_key = \"<your-api-key>\"\n",
    "api_version = \"2024-12-01-preview\"\n",
    "\n",
    "client = AzureOpenAI(\n",
    "    api_version=api_version,\n",
    "    azure_endpoint=endpoint,\n",
    "    api_key=subscription_key,\n",
    ")\n",
    "\n",
    "response = client.chat.completions.create(\n",
    "    messages=[\n",
    "        {\n",
    "            \"role\": \"system\",\n",
    "            \"content\": \"You are a helpful assistant.\",\n",
    "        },\n",
    "        {\n",
    "            \"role\": \"user\",\n",
    "            \"content\": \"I am going to Paris, what should I see?\",\n",
    "        }\n",
    "    ],\n",
    "    max_tokens=4096,\n",
    "    temperature=1.0,\n",
    "    top_p=1.0,\n",
    "    model=model_name\n",
    ")\n",
    "\n",
    "print(response.choices[0].message.content)"
   ]
  }
 ],
 "metadata": {
  "kernelspec": {
   "display_name": ".venv",
   "language": "python",
   "name": "python3"
  },
  "language_info": {
   "codemirror_mode": {
    "name": "ipython",
    "version": 3
   },
   "file_extension": ".py",
   "mimetype": "text/x-python",
   "name": "python",
   "nbconvert_exporter": "python",
   "pygments_lexer": "ipython3",
   "version": "3.9.6"
  }
 },
 "nbformat": 4,
 "nbformat_minor": 2
}
