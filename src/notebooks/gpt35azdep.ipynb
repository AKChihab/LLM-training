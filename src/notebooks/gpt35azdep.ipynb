{
 "cells": [
  {
   "cell_type": "markdown",
   "metadata": {},
   "source": [
    "# Deployment GPT 3.5 via AZURE OPEN AI "
   ]
  },
  {
   "cell_type": "code",
   "execution_count": 108,
   "metadata": {},
   "outputs": [],
   "source": [
    "import os\n",
    "from azure.ai.inference import ChatCompletionsClient\n",
    "from azure.ai.inference.models import SystemMessage, UserMessage, AssistantMessage\n",
    "from azure.identity import AzureCliCredential , DefaultAzureCredential, get_bearer_token_provider\n",
    "from azure.core.credentials import AzureKeyCredential\n",
    "from openai import AzureOpenAI\n",
    "from dotenv import load_dotenv\n"
   ]
  },
  {
   "cell_type": "code",
   "execution_count": 112,
   "metadata": {},
   "outputs": [],
   "source": [
    "load_dotenv()\n",
    "model_name = \"gpt-35-turbo\"\n",
    "endpoint = \"https://openaillmdemo93.openai.azure.com/openai/deployments/gpt-35-turbo\"\n"
   ]
  },
  {
   "cell_type": "markdown",
   "metadata": {},
   "source": [
    "# AZURE AI INFERENCE"
   ]
  },
  {
   "cell_type": "markdown",
   "metadata": {},
   "source": [
    "### Basic Code + Key Auth"
   ]
  },
  {
   "cell_type": "code",
   "execution_count": 92,
   "metadata": {},
   "outputs": [
    {
     "name": "stdout",
     "output_type": "stream",
     "text": [
      "Machine learning is a subfield of artificial intelligence that focuses on the development of algorithms and statistical models that enable computers to learn from and make predictions or decisions based on data, without being explicitly programmed to do so. \n",
      "\n",
      "In traditional programming, a human programmer writes code that specifies the exact steps a computer should take to solve a problem or perform a task. In contrast, in machine learning, the computer learns how to perform a task by analyzing and learning from large amounts of data. \n",
      "\n",
      "Machine learning algorithms can be broadly categorized into three types: supervised learning, unsupervised learning, and reinforcement learning. In supervised learning, the algorithm is trained on labeled data, where the correct output is provided along with the input data. The algorithm learns to map input data to the correct output during the training process and can then make predictions on new, unseen data. \n",
      "\n",
      "Unsupervised learning involves training algorithms on unlabeled data, where the algorithm tries to find patterns or structures in the data without explicit guidance. Clustering and dimensionality reduction are common tasks in unsupervised learning. \n",
      "\n",
      "Reinforcement learning is a type of machine learning where an agent learns to make decisions by interacting with an environment and receiving rewards or penalties for its actions. The agent learns to maximize its cumulative reward over time through trial and error.\n",
      "\n",
      "Overall, machine learning enables computers to learn and improve from experience, enabling them to perform tasks and make decisions that were previously only possible for humans.\n"
     ]
    }
   ],
   "source": [
    "# For Serverless API or Managed Compute endpoints\n",
    "client = ChatCompletionsClient(\n",
    "    endpoint=endpoint,\n",
    "    credential=AzureKeyCredential(os.environ.get(\"AZURE_API_KEY\"))\n",
    ")\n",
    "response = client.complete(\n",
    "    messages=[\n",
    "        SystemMessage(content=\"You are an expert in the field of AI and machine learning.\"),\n",
    "        UserMessage(content=\"Explain the concept of machine learning?\")\n",
    "    ],\n",
    "    max_tokens=400,\n",
    "    temperature=.8,\n",
    "    top_p=1.0,\n",
    "    model=model_name\n",
    ")\n",
    "print(response.choices[0].message.content)"
   ]
  },
  {
   "cell_type": "markdown",
   "metadata": {},
   "source": [
    "### Multi-turn + Key Auth"
   ]
  },
  {
   "cell_type": "code",
   "execution_count": 55,
   "metadata": {},
   "outputs": [
    {
     "name": "stdout",
     "output_type": "stream",
     "text": [
      "To implement a Dead man's switch smart contract, you can follow these general steps:\n",
      "\n",
      "1. Define the functionality: Determine what actions should be triggered if the \"dead man's switch\" is activated. For example, you might want to transfer assets to specified beneficiaries, send a notification, or perform other specific functions.\n",
      "\n",
      "2. Design the contract: Write the Solidity code for the smart contract that includes functions to handle the activation and deactivation of the switch, as well as the actions to be executed when the switch is triggered.\n",
      "\n",
      "3. Implement time-based triggers: Include mechanisms in the smart contract to track the passage of time or other conditions that will activate the switch if certain requirements are not met within a specified timeframe.\n",
      "\n",
      "4. Security considerations: Ensure the contract is secure against potential vulnerabilities such as reentrancy attacks, denial-of-service attacks, and others. Consider using established best practices and auditing the contract code before deployment.\n",
      "\n",
      "5. Testing and deployment: Test the smart contract thoroughly on a test network before deploying it on the main Ethereum network. Consider using tools like Truffle for testing and deployment.\n",
      "\n",
      "6. Deploy and interact with the contract: Deploy the smart contract on the Ethereum network and interact with it using a wallet or a dapp interface to set up the Dead man's switch parameters and activate it.\n",
      "\n",
      "Before implementing a Dead man's switch smart contract, it is important to consider legal and ethical implications, as well as potential consequences of its activation. Additionally, seek advice from legal and blockchain experts to ensure compliance and best practices in implementing such a feature on the blockchain.\n"
     ]
    }
   ],
   "source": [
    "\n",
    "credential = AzureCliCredential()\n",
    "client = ChatCompletionsClient(\n",
    "    endpoint=endpoint,\n",
    "    credential=credential,\n",
    "    credential_scopes=[\"https://cognitiveservices.azure.com/.default\"],\n",
    ")\n",
    "\n",
    "response = client.complete(\n",
    "    messages=[\n",
    "        SystemMessage(content=\"You are an expert in Solidity and Ethereum blockchain.\"),\n",
    "        UserMessage(content=\"I want to create a smart contract for a Dead man's switch. What is the best way to implement this?\"),\n",
    "        AssistantMessage(content=\"Smart contracts are programs that run on a blockchain. They are self-executing contracts with the terms of the agreement directly written into code. Dead man's switch smart contracts can be implemented using Solidity, a programming language for writing smart contracts on Ethereum. Here's a basic example of a Dead man's switch smart contract in Solidity:\"),\n",
    "        UserMessage(content=\"What is the best way to implement this?\")\n",
    "    ],\n",
    "    max_tokens=500,\n",
    "    temperature=1.0,\n",
    "    top_p=1.0,\n",
    "    model=model_name\n",
    ")\n",
    "\n",
    "print(response.choices[0].message.content)"
   ]
  },
  {
   "cell_type": "markdown",
   "metadata": {},
   "source": [
    "###  Stream the output"
   ]
  },
  {
   "cell_type": "code",
   "execution_count": 57,
   "metadata": {},
   "outputs": [
    {
     "name": "stdout",
     "output_type": "stream",
     "text": [
      "Make sure to visit the Eiffel Tower so you can take a selfie with all the other tourists trying to do the same thing."
     ]
    }
   ],
   "source": [
    "response = client.complete(\n",
    "    stream=True,\n",
    "    messages=[\n",
    "        SystemMessage(content=\"You are a comediam telling short and sarcastic jokes.\"),\n",
    "        UserMessage(content=\"I am going to Paris, what should I see?\")\n",
    "    ],\n",
    "    max_tokens=250,\n",
    "    temperature=.7,\n",
    "    top_p=1.0,\n",
    "    model=model_name\n",
    ")\n",
    "\n",
    "for update in response:\n",
    "    if update.choices:\n",
    "        print(update.choices[0].delta.content or \"\", end=\"\")\n",
    "\n",
    "client.close()"
   ]
  },
  {
   "cell_type": "markdown",
   "metadata": {},
   "source": [
    "# OPEN AI SDK"
   ]
  },
  {
   "cell_type": "code",
   "execution_count": 125,
   "metadata": {},
   "outputs": [],
   "source": [
    "endpoint = os.getenv(\"ENDPOINT_URL\", \"https://openaillmdemo93.openai.azure.com/\")  \n",
    "deployment = os.getenv(\"DEPLOYMENT_NAME\", \"gpt-35-turbo\")  \n",
    "token_provider = get_bearer_token_provider(  \n",
    "    DefaultAzureCredential(exclude_environment_credential=True),  \n",
    "    \"https://cognitiveservices.azure.com/.default\"  \n",
    ")  \n",
    "api_version = \"2024-05-01-preview\""
   ]
  },
  {
   "cell_type": "code",
   "execution_count": 127,
   "metadata": {},
   "outputs": [
    {
     "name": "stdout",
     "output_type": "stream",
     "text": [
      "That's exciting! In Paris, you should definitely visit the Eiffel Tower, Louvre Museum, Notre-Dame Cathedral (once it reopens after the fire), Montmartre with the Sacre-Coeur Basilica, Champs-Elysées, Seine River for a boat cruise, and the charming neighborhoods like Le Marais and Saint-Germain-des-Prés. Don't forget to indulge in delicious French pastries and cuisine during your stay! Enjoy your trip to Paris.\n"
     ]
    }
   ],
   "source": [
    "client = AzureOpenAI(\n",
    "    api_version=api_version,\n",
    "    azure_endpoint=endpoint,\n",
    "    azure_ad_token_provider=token_provider,\n",
    ")\n",
    "\n",
    "response = client.chat.completions.create(\n",
    "    messages=[\n",
    "        {\n",
    "            \"role\": \"system\",\n",
    "            \"content\": \"You are a helpful assistant.\",\n",
    "        },\n",
    "        {\n",
    "            \"role\": \"user\",\n",
    "            \"content\": \"I am going to Paris, what should I see?\",\n",
    "        }\n",
    "    ],\n",
    "    max_tokens=400,\n",
    "    temperature=1.0,\n",
    "    top_p=1.0,\n",
    "    model=deployment\n",
    ")\n",
    "\n",
    "print(response.choices[0].message.content)\n"
   ]
  }
 ],
 "metadata": {
  "kernelspec": {
   "display_name": ".venv",
   "language": "python",
   "name": "python3"
  },
  "language_info": {
   "codemirror_mode": {
    "name": "ipython",
    "version": 3
   },
   "file_extension": ".py",
   "mimetype": "text/x-python",
   "name": "python",
   "nbconvert_exporter": "python",
   "pygments_lexer": "ipython3",
   "version": "3.12.6"
  }
 },
 "nbformat": 4,
 "nbformat_minor": 2
}
